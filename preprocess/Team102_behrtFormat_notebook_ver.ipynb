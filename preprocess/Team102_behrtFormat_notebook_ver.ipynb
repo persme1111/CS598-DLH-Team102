{
 "cells": [
  {
   "cell_type": "code",
   "execution_count": 1,
   "id": "659f67ca",
   "metadata": {},
   "outputs": [],
   "source": [
    "import pandas as pd\n",
    "\n",
    "# Function to read the patient CSV file\n",
    "def read_patient():\n",
    "    return pd.read_csv(\"PATIENTS.csv\")\n",
    "\n",
    "# Function to preprocess the patient dataframe\n",
    "def preprocess_patient(df):\n",
    "    selected_columns = ['SUBJECT_ID','DOB','DOD']\n",
    "    return df[selected_columns].copy()\n",
    "\n",
    "# Function to read the visit CSV file\n",
    "def read_visit():\n",
    "    return pd.read_csv('ADMISSIONS.csv')\n",
    "\n",
    "# Function to preprocess the visit dataframe\n",
    "def preprocess_visit(df):\n",
    "    selected_columns = ['SUBJECT_ID','HADM_ID','ADMITTIME','DISCHTIME','DEATHTIME']\n",
    "    return df[selected_columns].copy()\n",
    "\n",
    "# Function to read the diagnosis CSV file\n",
    "def read_diagnosis():\n",
    "    return pd.read_csv(\"DIAGNOSES_ICD.csv\")\n",
    "\n",
    "# Function to preprocess the diagnosis dataframe\n",
    "def preprocess_diagnosis(df):\n",
    "    selected_columns = ['SUBJECT_ID','HADM_ID','ICD9_CODE']\n",
    "    return df[selected_columns].copy()\n",
    "\n",
    "# Function to read the medication CSV file\n",
    "def read_medication():\n",
    "    return pd.read_csv(\"PRESCRIPTIONS.csv\", low_memory=False)\n",
    "\n",
    "# Function to preprocess the medication dataframe\n",
    "def preprocess_medication(df):\n",
    "    selected_columns = ['SUBJECT_ID','HADM_ID','STARTDATE','ENDDATE','DRUG_TYPE','DRUG']\n",
    "    return df[selected_columns].copy()\n"
   ]
  },
  {
   "cell_type": "code",
   "execution_count": 55,
   "id": "32559fd5",
   "metadata": {},
   "outputs": [],
   "source": [
    "patient_raw = read_patient()\n",
    "patient_df = preprocess_patient(patient_raw)\n",
    "\n",
    "visit_raw = read_visit()\n",
    "visit_df = preprocess_visit(visit_raw)\n",
    "\n",
    "diagnosis_raw = read_diagnosis()\n",
    "diagnosis_df = preprocess_diagnosis(diagnosis_raw)\n",
    "\n",
    "medication_raw = read_medication()\n",
    "medication_df = preprocess_medication(medication_raw)\n"
   ]
  },
  {
   "cell_type": "code",
   "execution_count": 62,
   "id": "e3602739",
   "metadata": {},
   "outputs": [],
   "source": [
    "# Add Age\n",
    "patient_df['DOB'] = pd.to_datetime(patient_df['DOB']).dt.date\n",
    "visit_df['ADMITTIME'] = pd.to_datetime(visit_df['ADMITTIME']).dt.date\n",
    "df = visit_df.merge(patient_df, on='SUBJECT_ID')\n",
    "df = df.merge(diagnosis_df, on=['SUBJECT_ID', 'HADM_ID'])\n",
    "df['AGE'] = (df['ADMITTIME'] - df['DOB']).apply(lambda x: int(x.days/365))\n",
    "subject_id_counts = df.groupby('SUBJECT_ID')['ADMITTIME'].nunique()\n",
    "# filter out the patient with less than 2 visits\n",
    "valid_subject_ids = subject_id_counts[subject_id_counts > 1].index\n",
    "df = df[df['SUBJECT_ID'].isin(valid_subject_ids)].copy()\n",
    "             \n",
    "# group by date\n",
    "diagnoses = df.sort_values(by=['SUBJECT_ID', 'ADMITTIME'])\n",
    "diagnoses_grouped = diagnoses.groupby(['SUBJECT_ID', 'ADMITTIME']).agg({'ICD9_CODE': list, 'AGE': list, 'DOB': 'first'}).reset_index()\n",
    "diagnoses_grouped.columns = ['SUBJECT_ID', 'ADMITTIME', 'ICD9_CODE', 'AGE', 'DOB']\n",
    "\n"
   ]
  },
  {
   "cell_type": "code",
   "execution_count": null,
   "id": "34af4bb2",
   "metadata": {},
   "outputs": [],
   "source": []
  }
 ],
 "metadata": {
  "kernelspec": {
   "display_name": "Python 3 (ipykernel)",
   "language": "python",
   "name": "python3"
  },
  "language_info": {
   "codemirror_mode": {
    "name": "ipython",
    "version": 3
   },
   "file_extension": ".py",
   "mimetype": "text/x-python",
   "name": "python",
   "nbconvert_exporter": "python",
   "pygments_lexer": "ipython3",
   "version": "3.9.12"
  }
 },
 "nbformat": 4,
 "nbformat_minor": 5
}
